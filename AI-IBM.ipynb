{
 "cells": [
  {
   "cell_type": "code",
   "execution_count": 1,
   "id": "b0f6a32a",
   "metadata": {},
   "outputs": [],
   "source": [
    "import pandas as pd\n",
    "import numpy as np\n",
    "from matplotlib import pyplot as plt\n",
    "from sklearn.ensemble import RandomForestRegressor"
   ]
  },
  {
   "cell_type": "code",
   "execution_count": 14,
   "id": "b550711c",
   "metadata": {},
   "outputs": [
    {
     "data": {
      "text/html": [
       "<div>\n",
       "<style scoped>\n",
       "    .dataframe tbody tr th:only-of-type {\n",
       "        vertical-align: middle;\n",
       "    }\n",
       "\n",
       "    .dataframe tbody tr th {\n",
       "        vertical-align: top;\n",
       "    }\n",
       "\n",
       "    .dataframe thead th {\n",
       "        text-align: right;\n",
       "    }\n",
       "</style>\n",
       "<table border=\"1\" class=\"dataframe\">\n",
       "  <thead>\n",
       "    <tr style=\"text-align: right;\">\n",
       "      <th></th>\n",
       "      <th>Country</th>\n",
       "      <th>Year</th>\n",
       "      <th>Schizophrenia</th>\n",
       "      <th>Bipolar</th>\n",
       "      <th>Eating disorders</th>\n",
       "      <th>Anxiety</th>\n",
       "      <th>Drug usage</th>\n",
       "      <th>Depressive</th>\n",
       "      <th>Alcohol usage</th>\n",
       "    </tr>\n",
       "  </thead>\n",
       "  <tbody>\n",
       "    <tr>\n",
       "      <th>0</th>\n",
       "      <td>Afghanistan</td>\n",
       "      <td>1990</td>\n",
       "      <td>0.228979</td>\n",
       "      <td>0.721207</td>\n",
       "      <td>0.131001</td>\n",
       "      <td>4.835127</td>\n",
       "      <td>0.454202</td>\n",
       "      <td>5.125291</td>\n",
       "      <td>0.444036</td>\n",
       "    </tr>\n",
       "    <tr>\n",
       "      <th>1</th>\n",
       "      <td>Afghanistan</td>\n",
       "      <td>1991</td>\n",
       "      <td>0.228120</td>\n",
       "      <td>0.719952</td>\n",
       "      <td>0.126395</td>\n",
       "      <td>4.821765</td>\n",
       "      <td>0.447112</td>\n",
       "      <td>5.116306</td>\n",
       "      <td>0.444250</td>\n",
       "    </tr>\n",
       "  </tbody>\n",
       "</table>\n",
       "</div>"
      ],
      "text/plain": [
       "       Country  Year  Schizophrenia   Bipolar  Eating disorders   Anxiety  \\\n",
       "0  Afghanistan  1990       0.228979  0.721207          0.131001  4.835127   \n",
       "1  Afghanistan  1991       0.228120  0.719952          0.126395  4.821765   \n",
       "\n",
       "   Drug usage  Depressive  Alcohol usage  \n",
       "0    0.454202    5.125291       0.444036  \n",
       "1    0.447112    5.116306       0.444250  "
      ]
     },
     "execution_count": 14,
     "metadata": {},
     "output_type": "execute_result"
    }
   ],
   "source": [
    "data= pd.read_csv(r\"C:\\Users\\91951\\OneDrive\\Desktop\\ai-mental-and-substance-use-disorder.csv\")\n",
    "data.head(2)\n"
   ]
  },
  {
   "cell_type": "code",
   "execution_count": 17,
   "id": "7ad4c649",
   "metadata": {},
   "outputs": [
    {
     "name": "stdout",
     "output_type": "stream",
     "text": [
      "<class 'pandas.core.frame.DataFrame'>\n",
      "RangeIndex: 6840 entries, 0 to 6839\n",
      "Data columns (total 9 columns):\n",
      " #   Column            Non-Null Count  Dtype  \n",
      "---  ------            --------------  -----  \n",
      " 0   Country           6840 non-null   object \n",
      " 1   Year              6840 non-null   int64  \n",
      " 2   Schizophrenia     6840 non-null   float64\n",
      " 3    Bipolar          6840 non-null   float64\n",
      " 4   Eating disorders  6840 non-null   float64\n",
      " 5   Anxiety           6840 non-null   float64\n",
      " 6   Drug usage        6840 non-null   float64\n",
      " 7   Depressive        6840 non-null   float64\n",
      " 8   Alcohol usage     6840 non-null   float64\n",
      "dtypes: float64(7), int64(1), object(1)\n",
      "memory usage: 481.1+ KB\n"
     ]
    }
   ],
   "source": [
    "data.info()"
   ]
  },
  {
   "cell_type": "code",
   "execution_count": 13,
   "id": "ffbdf913",
   "metadata": {},
   "outputs": [
    {
     "name": "stdout",
     "output_type": "stream",
     "text": [
      "Welcome to the Mental fitness Tracker \n",
      "Enter the country: India\n",
      "Enter the year: 2004\n",
      "Enter the rate of schizophrenia: 12\n",
      "Enter the rate of bipolar: 6\n",
      "Enter the rate of eating disorders: 40\n",
      "Enter the rate of anxiety: 7\n",
      "Enter the rate of drug usage per year: 3\n",
      "Enter the rate of depression: 6\n",
      "Enter the rate of alcohol usage: 5\n"
     ]
    }
   ],
   "source": [
    "print(\"Welcome to the Mental fitness Tracker \")\n",
    "country = input(\"Enter the country: \")\n",
    "year = int(input(\"Enter the year: \"))\n",
    "schizophrenia = float(input(\"Enter the rate of schizophrenia: \"))\n",
    "bipolar = float(input(\"Enter the rate of bipolar: \"))\n",
    "eating_disorders = float(input(\"Enter the rate of eating disorders: \"))\n",
    "anxiety = float(input(\"Enter the rate of anxiety: \"))\n",
    "drug_usage = float(input(\"Enter the rate of drug usage per year: \"))\n",
    "depression = float(input(\"Enter the rate of depression: \"))\n",
    "alcohol_usage = float(input(\"Enter the rate of alcohol usage: \"))"
   ]
  },
  {
   "cell_type": "code",
   "execution_count": null,
   "id": "2b594703",
   "metadata": {},
   "outputs": [],
   "source": [
    "\n",
    "X = data[['Schizophrenia', 'Bipolar', 'Eating disorders', 'Anxiety', 'Drug usage', 'Depression', 'Alcohol Usage']]\n",
    "y = data['Mental fitness']\n",
    "random_forest = RandomForestRegressor()\n",
    "random_forest.fit(X, y)\n",
    "user_input = pd.DataFrame([[schizophrenia, bipolar, eating_disorders, anxiety, drug_usage, depression, alcohol_usage]],columns=['Schizophrenia', 'Bipolar', 'Eating disorders', 'Anxiety', 'Drug usage', 'Depression', 'Alcohol Usage'])\n"
   ]
  },
  {
   "cell_type": "code",
   "execution_count": null,
   "id": "75d2d6ab",
   "metadata": {},
   "outputs": [],
   "source": [
    "random_forest_prediction = random_forest.predict(user_input)[0]"
   ]
  },
  {
   "cell_type": "code",
   "execution_count": null,
   "id": "9796ca9c",
   "metadata": {},
   "outputs": [],
   "source": [
    "normalized_prediction = (random_forest_prediction / data['Mental fitness'].max()) * 100\n",
    "print(\"Mental Fitness is %.2f\"%(normalized_prediction))\n",
    "if normalized_prediction > 80:\n",
    "  print(\"You have a Good health condition!\")\n",
    "else:\n",
    "  print(\"Improve your health condition!\")\n",
    "bar = 0.5\n",
    "plt.bar(['Predicted Mental Fitness'], [normalized_prediction],width = bar)\n",
    "plt.ylim(0, 100)\n",
    "plt.xlabel('Prediction')\n",
    "plt.ylabel('Mental Fitness')\n",
    "plt.title('Predicted Mental Fitness')\n",
    "plt.show()"
   ]
  },
  {
   "cell_type": "code",
   "execution_count": null,
   "id": "9f040164",
   "metadata": {},
   "outputs": [],
   "source": []
  },
  {
   "cell_type": "code",
   "execution_count": null,
   "id": "a50cc2c1",
   "metadata": {},
   "outputs": [],
   "source": []
  },
  {
   "cell_type": "code",
   "execution_count": null,
   "id": "ff7f2671",
   "metadata": {},
   "outputs": [],
   "source": []
  }
 ],
 "metadata": {
  "kernelspec": {
   "display_name": "Python 3 (ipykernel)",
   "language": "python",
   "name": "python3"
  },
  "language_info": {
   "codemirror_mode": {
    "name": "ipython",
    "version": 3
   },
   "file_extension": ".py",
   "mimetype": "text/x-python",
   "name": "python",
   "nbconvert_exporter": "python",
   "pygments_lexer": "ipython3",
   "version": "3.9.12"
  }
 },
 "nbformat": 4,
 "nbformat_minor": 5
}
